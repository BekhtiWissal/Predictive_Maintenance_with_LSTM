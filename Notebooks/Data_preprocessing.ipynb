{
 "cells": [
  {
   "cell_type": "code",
   "execution_count": null,
   "metadata": {},
   "outputs": [],
   "source": [
    "#Adding a split_sequences function\n",
    "def split_sequences(sequences, n_steps):\n",
    "\tX, y = list(), list()\n",
    "\tfor i in range(len(sequences)):\n",
    "\t\t# find the end of this pattern\n",
    "\t\tend_ix = i + n_steps\n",
    "\t\t# check if we are beyond the dataset\n",
    "\t\tif end_ix > len(sequences)-1:\n",
    "\t\t\tbreak\n",
    "\t\t# gather input and output parts of the pattern\n",
    "\t\tseq_x, seq_y = sequences[i:end_ix, :], sequences[end_ix, :]\n",
    "\t\tX.append(seq_x)\n",
    "\t\ty.append(seq_y)\n",
    "\treturn array(X), array(y)\n",
    " \n",
    "#Loading data \n",
    "uploaded=files.upload()\n",
    "dataset = pd.read_excel(io.BytesIO(uploaded['Coffee.xlsx']), 'Coffee33', index_col='Datess', parse_dates=['Datess'])\n",
    "dataset.head()\n",
    "\n",
    "#Defining input sequences\n",
    "in_seq1 = np.array(dataset.Vibrationss)\n",
    "in_seq2 = np.array(dataset.PtPAxial)\n",
    "in_seq3 = np.array(dataset.PtPRadial)\n",
    "in_seq4 = np.array(dataset.PtPTangential)\n",
    "\n",
    "#Reshaping data \n",
    "in_seq1 = in_seq1.reshape((len(in_seq1), 1))\n",
    "in_seq2 = in_seq2.reshape((len(in_seq2), 1))\n",
    "in_seq3 = in_seq3.reshape((len(in_seq3), 1))\n",
    "in_seq4 = in_seq4.reshape((len(in_seq4), 1))\n",
    "\n",
    "#Splitting data \n",
    "dataset = hstack((in_seq1, in_seq2, in_seq3, in_seq4))\n",
    "n_steps = 10\n",
    "X, y = split_sequences(dataset, n_steps)\n",
    "n_features = 4"
   ]
  }
 ],
 "metadata": {
  "language_info": {
   "name": "python"
  }
 },
 "nbformat": 4,
 "nbformat_minor": 2
}
