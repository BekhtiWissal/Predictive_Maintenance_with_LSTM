{
 "cells": [
  {
   "cell_type": "code",
   "execution_count": null,
   "metadata": {},
   "outputs": [],
   "source": [
    "#Building the model \n",
    "model = Sequential()\n",
    "#First layer \n",
    "model.add(LSTM(100, activation='relu', return_sequences=True, input_shape=(n_steps, n_features)))\n",
    "model.add(Dropout(0.2))\n",
    "#Second layer \n",
    "model.add(LSTM(100, activation='relu'))\n",
    "model.add(Dropout(0.2))\n",
    "#Output layer\n",
    "model.add(Dense(n_features))\n",
    "#Fitting the model to the dataset\n",
    "model.compile(optimizer=tf.keras.optimizers.Adam(0.01), loss=tf.keras.losses.MeanSquaredError(), metrics=['accuracy'])\n",
    "model.fit(X, y, epochs=400, verbose=0)"
   ]
  }
 ],
 "metadata": {
  "language_info": {
   "name": "python"
  }
 },
 "nbformat": 4,
 "nbformat_minor": 2
}
